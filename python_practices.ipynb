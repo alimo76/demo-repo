{
 "cells": [
  {
   "cell_type": "code",
   "execution_count": 1,
   "id": "6a331cbc-1f7e-4f6a-bf64-1aac60394b67",
   "metadata": {},
   "outputs": [],
   "source": [
    "a= 5"
   ]
  },
  {
   "cell_type": "code",
   "execution_count": 2,
   "id": "f4ae732b-8f03-432a-901e-3a2b71913fa1",
   "metadata": {},
   "outputs": [
    {
     "ename": "NameError",
     "evalue": "name 'A' is not defined",
     "output_type": "error",
     "traceback": [
      "\u001b[1;31m---------------------------------------------------------------------------\u001b[0m",
      "\u001b[1;31mNameError\u001b[0m                                 Traceback (most recent call last)",
      "Cell \u001b[1;32mIn[2], line 1\u001b[0m\n\u001b[1;32m----> 1\u001b[0m \u001b[43mA\u001b[49m\n",
      "\u001b[1;31mNameError\u001b[0m: name 'A' is not defined"
     ]
    }
   ],
   "source": [
    "A"
   ]
  },
  {
   "cell_type": "code",
   "execution_count": 3,
   "id": "dd767c78-f07b-477f-b117-fb0722d0a547",
   "metadata": {},
   "outputs": [
    {
     "name": "stdout",
     "output_type": "stream",
     "text": [
      "hello world\n"
     ]
    }
   ],
   "source": [
    "print ('hello','world')"
   ]
  },
  {
   "cell_type": "code",
   "execution_count": 4,
   "id": "74c0d523-2d0b-4c33-bf22-c1a754b11b7f",
   "metadata": {},
   "outputs": [
    {
     "name": "stdout",
     "output_type": "stream",
     "text": [
      "helloworld\n"
     ]
    }
   ],
   "source": [
    "a= 'hello'\n",
    "b= 'world'\n",
    "print(a+b)\n"
   ]
  },
  {
   "cell_type": "code",
   "execution_count": 6,
   "id": "c998b2c3-3721-479e-8e75-2639f19b7a78",
   "metadata": {},
   "outputs": [
    {
     "name": "stdout",
     "output_type": "stream",
     "text": [
      "he is called \"Johnny\"\n"
     ]
    }
   ],
   "source": [
    "print('he is called \"Johnny\"')"
   ]
  },
  {
   "cell_type": "code",
   "execution_count": 8,
   "id": "63321037-e550-41c6-8cb0-763ff612a224",
   "metadata": {},
   "outputs": [
    {
     "name": "stdout",
     "output_type": "stream",
     "text": [
      "ello wo\n"
     ]
    }
   ],
   "source": [
    "b = 'hello world'\n",
    "print(b[1:8])"
   ]
  },
  {
   "cell_type": "code",
   "execution_count": 9,
   "id": "b58243ae-b0cd-4993-919e-4486897e1f80",
   "metadata": {},
   "outputs": [
    {
     "name": "stdout",
     "output_type": "stream",
     "text": [
      "The price is 59.00 dollars\n"
     ]
    }
   ],
   "source": [
    "price = 59\n",
    "txt = f\"The price is {price:.2f} dollars\"\n",
    "print(txt)"
   ]
  },
  {
   "cell_type": "code",
   "execution_count": 10,
   "id": "bebf9873-6acd-4d34-a6ee-017a88372e8b",
   "metadata": {},
   "outputs": [
    {
     "name": "stdout",
     "output_type": "stream",
     "text": [
      "The price is 1180 dollars\n"
     ]
    }
   ],
   "source": [
    "txt = f\"The price is {20 * 59} dollars\"\n",
    "print(txt)"
   ]
  },
  {
   "cell_type": "code",
   "execution_count": 12,
   "id": "09bd0f48-8281-4a4f-9369-ea8f62840daa",
   "metadata": {},
   "outputs": [
    {
     "data": {
      "text/plain": [
       "'apple'"
      ]
     },
     "execution_count": 12,
     "metadata": {},
     "output_type": "execute_result"
    }
   ],
   "source": [
    "list = ['apple','banana','car']\n",
    "list[0]"
   ]
  },
  {
   "cell_type": "code",
   "execution_count": 13,
   "id": "8e40116a-122c-4859-abec-0bf088a82c5a",
   "metadata": {},
   "outputs": [
    {
     "data": {
      "text/plain": [
       "['benz', 'banana', 'car']"
      ]
     },
     "execution_count": 13,
     "metadata": {},
     "output_type": "execute_result"
    }
   ],
   "source": [
    "list[0] = 'benz'\n",
    "list"
   ]
  },
  {
   "cell_type": "code",
   "execution_count": 14,
   "id": "36c7e1cb-f38f-4d10-b39a-c206df85c60a",
   "metadata": {},
   "outputs": [],
   "source": [
    "list.append('orange')"
   ]
  },
  {
   "cell_type": "code",
   "execution_count": 15,
   "id": "a92b1574-c126-49b9-a323-3e81c4650440",
   "metadata": {},
   "outputs": [
    {
     "data": {
      "text/plain": [
       "['benz', 'banana', 'car', 'orange']"
      ]
     },
     "execution_count": 15,
     "metadata": {},
     "output_type": "execute_result"
    }
   ],
   "source": [
    "list"
   ]
  },
  {
   "cell_type": "code",
   "execution_count": 16,
   "id": "82962ed3-5e9b-4612-bde0-d793b8c86f70",
   "metadata": {},
   "outputs": [
    {
     "data": {
      "text/plain": [
       "['benz', 'lambo', 'banana', 'car', 'orange']"
      ]
     },
     "execution_count": 16,
     "metadata": {},
     "output_type": "execute_result"
    }
   ],
   "source": [
    "list.insert(1,'lambo')\n",
    "list"
   ]
  },
  {
   "cell_type": "code",
   "execution_count": 18,
   "id": "9266c265-dc95-4f72-af79-3d759b7ee6a0",
   "metadata": {},
   "outputs": [
    {
     "data": {
      "text/plain": [
       "['benz', 'banana', 'car', 'orange']"
      ]
     },
     "execution_count": 18,
     "metadata": {},
     "output_type": "execute_result"
    }
   ],
   "source": [
    "list.pop(1)\n",
    "list"
   ]
  },
  {
   "cell_type": "code",
   "execution_count": 20,
   "id": "084ceb8c-3f88-4067-834b-d2a8ae114ece",
   "metadata": {},
   "outputs": [
    {
     "name": "stdout",
     "output_type": "stream",
     "text": [
      "benz\n",
      "banana\n",
      "car\n",
      "orange\n"
     ]
    }
   ],
   "source": [
    "for i in list:\n",
    "    print(i)"
   ]
  },
  {
   "cell_type": "code",
   "execution_count": 1,
   "id": "1a7d85ff-5707-401f-9c76-3630f3e2bdf0",
   "metadata": {},
   "outputs": [],
   "source": [
    "elements = ['apple', 'banana', 'apple', 'orange', 'banana', 'apple']\n",
    "frequency = {}\n",
    "for item in elements:\n",
    "    frequency[item] = frequency.get(item, 0) + 1"
   ]
  },
  {
   "cell_type": "code",
   "execution_count": 2,
   "id": "406f983d-620d-4602-b3e3-873595768d9a",
   "metadata": {},
   "outputs": [
    {
     "data": {
      "text/plain": [
       "{'apple': 3, 'banana': 2, 'orange': 1}"
      ]
     },
     "execution_count": 2,
     "metadata": {},
     "output_type": "execute_result"
    }
   ],
   "source": [
    "frequency"
   ]
  },
  {
   "cell_type": "code",
   "execution_count": 4,
   "id": "3a6358ea-ab34-4615-83a4-9d5184877160",
   "metadata": {},
   "outputs": [
    {
     "name": "stdout",
     "output_type": "stream",
     "text": [
      "Ford\n"
     ]
    }
   ],
   "source": [
    "car = {\n",
    "  \"brand\": \"Ford\",\n",
    "  \"model\": \"Mustang\",\n",
    "  \"year\": 1964\n",
    "}\n",
    "\n",
    "x = car.get(\"brand\")\n",
    "\n",
    "print(x)"
   ]
  },
  {
   "cell_type": "code",
   "execution_count": 2,
   "id": "478b1d36-3122-4cef-bd98-c81fe677951d",
   "metadata": {},
   "outputs": [
    {
     "name": "stdout",
     "output_type": "stream",
     "text": [
      "1\n",
      "2\n"
     ]
    }
   ],
   "source": [
    "i = 0\n",
    "while i < 6:\n",
    "  i += 1\n",
    "  if i == 3:\n",
    "    break\n",
    "  print(i)"
   ]
  },
  {
   "cell_type": "code",
   "execution_count": 3,
   "id": "b31f5bbd-f117-40a3-82bd-d46885909aaa",
   "metadata": {},
   "outputs": [
    {
     "name": "stdout",
     "output_type": "stream",
     "text": [
      "c\n",
      "a\n",
      "r\n"
     ]
    }
   ],
   "source": [
    "for x in 'car':\n",
    "    print(x)"
   ]
  },
  {
   "cell_type": "code",
   "execution_count": 4,
   "id": "f37473cb-7972-4335-b036-0df8eed31120",
   "metadata": {},
   "outputs": [
    {
     "name": "stdout",
     "output_type": "stream",
     "text": [
      "apple\n",
      "cherry\n"
     ]
    }
   ],
   "source": [
    "fruits = [\"apple\", \"banana\", \"cherry\"]\n",
    "for x in fruits:\n",
    "  if x == \"banana\":\n",
    "    continue\n",
    "  print(x)"
   ]
  },
  {
   "cell_type": "code",
   "execution_count": 7,
   "id": "dc6df3c3-1ae0-4ab8-b799-d51e2045a625",
   "metadata": {},
   "outputs": [
    {
     "name": "stdout",
     "output_type": "stream",
     "text": [
      "2\n",
      "4\n"
     ]
    }
   ],
   "source": [
    "for x in range(2,6,2):\n",
    "    print(x)"
   ]
  },
  {
   "cell_type": "code",
   "execution_count": 8,
   "id": "85f46872-8eff-478d-8325-c634565359e3",
   "metadata": {},
   "outputs": [
    {
     "name": "stdout",
     "output_type": "stream",
     "text": [
      "red apple\n",
      "red banana\n",
      "red cherry\n",
      "big apple\n",
      "big banana\n",
      "big cherry\n",
      "tasty apple\n",
      "tasty banana\n",
      "tasty cherry\n"
     ]
    }
   ],
   "source": [
    "adj = [\"red\", \"big\", \"tasty\"]\n",
    "fruits = [\"apple\", \"banana\", \"cherry\"]\n",
    "\n",
    "for x in adj:\n",
    "  for y in fruits:\n",
    "    print(x, y)"
   ]
  },
  {
   "cell_type": "code",
   "execution_count": 9,
   "id": "5c48c03b-0960-4e1a-b72a-04be95d9332a",
   "metadata": {},
   "outputs": [],
   "source": [
    "for x in [0, 1, 2]:\n",
    "  pass"
   ]
  },
  {
   "cell_type": "code",
   "execution_count": 1,
   "id": "c0ccd2cf-6a4c-4477-ae4f-1fac3585f727",
   "metadata": {},
   "outputs": [
    {
     "name": "stdout",
     "output_type": "stream",
     "text": [
      "The youngest child is Linus\n"
     ]
    }
   ],
   "source": [
    "def my_function(*kids):\n",
    "  print(\"The youngest child is \" + kids[2])\n",
    "\n",
    "my_function(\"Emil\", \"Tobias\", \"Linus\")"
   ]
  },
  {
   "cell_type": "code",
   "execution_count": 2,
   "id": "2dfbb1b2-1e41-4ae0-bedf-b63158ad223d",
   "metadata": {},
   "outputs": [
    {
     "name": "stdout",
     "output_type": "stream",
     "text": [
      "His last name is Refsnes\n"
     ]
    }
   ],
   "source": [
    "def my_function(**kid):\n",
    "  print(\"His last name is \" + kid[\"lname\"])\n",
    "\n",
    "my_function(fname = \"Tobias\", lname = \"Refsnes\")"
   ]
  },
  {
   "cell_type": "code",
   "execution_count": 1,
   "id": "ab5dbfc0-07f7-407f-bc5f-697b35058bcd",
   "metadata": {},
   "outputs": [],
   "source": [
    "x= lambda a : a+10"
   ]
  },
  {
   "cell_type": "code",
   "execution_count": 2,
   "id": "2aee8416-dc40-4aae-9794-6fe635c06cba",
   "metadata": {},
   "outputs": [
    {
     "name": "stdout",
     "output_type": "stream",
     "text": [
      "20\n"
     ]
    }
   ],
   "source": [
    "print(x(10))"
   ]
  },
  {
   "cell_type": "code",
   "execution_count": 3,
   "id": "313ed822-b836-4be4-bd94-6021d19af51a",
   "metadata": {},
   "outputs": [],
   "source": [
    "x = lambda a,b : a*b +10"
   ]
  },
  {
   "cell_type": "code",
   "execution_count": 4,
   "id": "7c9c120e-3f2d-491c-acf4-bd990c432be9",
   "metadata": {},
   "outputs": [
    {
     "name": "stdout",
     "output_type": "stream",
     "text": [
      "15\n"
     ]
    }
   ],
   "source": [
    "print(x(5,1))"
   ]
  },
  {
   "cell_type": "code",
   "execution_count": 6,
   "id": "d2712d5b-f58a-4a02-a537-a3e0658a26cd",
   "metadata": {},
   "outputs": [
    {
     "name": "stdout",
     "output_type": "stream",
     "text": [
      "33\n"
     ]
    }
   ],
   "source": [
    "def myfunc(n):\n",
    "  return lambda a : a * n\n",
    "\n",
    "mytripler = myfunc(3)\n",
    "\n",
    "print(mytripler(11))"
   ]
  },
  {
   "cell_type": "code",
   "execution_count": 7,
   "id": "5ccb7673-8466-4c23-8712-f6f8e753f25d",
   "metadata": {},
   "outputs": [
    {
     "name": "stdout",
     "output_type": "stream",
     "text": [
      "27\n"
     ]
    }
   ],
   "source": [
    "def myfunc(n,c):\n",
    "    return lambda a : n*c + a\n",
    "myfunc2 = myfunc(3,4)\n",
    "print(myfunc2(15))"
   ]
  },
  {
   "cell_type": "code",
   "execution_count": 8,
   "id": "2eab0784-a595-4442-8b99-ddca7d817228",
   "metadata": {},
   "outputs": [
    {
     "name": "stdout",
     "output_type": "stream",
     "text": [
      "22\n",
      "33\n"
     ]
    }
   ],
   "source": [
    "def myfunc(n):\n",
    "  return lambda a : a * n\n",
    "\n",
    "mydoubler = myfunc(2)\n",
    "mytripler = myfunc(3)\n",
    "\n",
    "print(mydoubler(11))\n",
    "print(mytripler(11))"
   ]
  },
  {
   "cell_type": "code",
   "execution_count": 9,
   "id": "91eaefe8-e598-4cd7-b90c-27a0c8c0af89",
   "metadata": {},
   "outputs": [],
   "source": [
    "class MyClass:\n",
    "    x=6 \n"
   ]
  },
  {
   "cell_type": "code",
   "execution_count": 10,
   "id": "2de270aa-35a5-42d5-ade5-2c64126aea7a",
   "metadata": {},
   "outputs": [
    {
     "data": {
      "text/plain": [
       "6"
      ]
     },
     "execution_count": 10,
     "metadata": {},
     "output_type": "execute_result"
    }
   ],
   "source": [
    "MyClass.x"
   ]
  },
  {
   "cell_type": "code",
   "execution_count": 11,
   "id": "fd55872d-7902-48a7-a184-b9b3d842151a",
   "metadata": {},
   "outputs": [],
   "source": [
    "class Person:\n",
    "    def __init__(self,name,age):\n",
    "        self.name = name\n",
    "        self.age = age\n"
   ]
  },
  {
   "cell_type": "code",
   "execution_count": 12,
   "id": "b9235064-9f3e-4ae8-8cad-2b7b5ed04f51",
   "metadata": {},
   "outputs": [],
   "source": [
    "p1 = Person ('john',25)"
   ]
  },
  {
   "cell_type": "code",
   "execution_count": 13,
   "id": "330b39f3-0a7f-4478-b1fb-2f3eee5a0260",
   "metadata": {},
   "outputs": [
    {
     "data": {
      "text/plain": [
       "25"
      ]
     },
     "execution_count": 13,
     "metadata": {},
     "output_type": "execute_result"
    }
   ],
   "source": [
    "p1.age"
   ]
  },
  {
   "cell_type": "code",
   "execution_count": 14,
   "id": "8539dd5e-11d0-4803-a200-8f675d733da0",
   "metadata": {},
   "outputs": [
    {
     "data": {
      "text/plain": [
       "'john'"
      ]
     },
     "execution_count": 14,
     "metadata": {},
     "output_type": "execute_result"
    }
   ],
   "source": [
    "p1.name"
   ]
  },
  {
   "cell_type": "code",
   "execution_count": 15,
   "id": "75160ce8-2416-446e-bdcf-cb2ca2a2c98d",
   "metadata": {},
   "outputs": [],
   "source": [
    "class cars:\n",
    "    def __init__(self,brand,year,country):\n",
    "        self.brand = brand\n",
    "        self.year = year\n",
    "        self.country = country"
   ]
  },
  {
   "cell_type": "code",
   "execution_count": 16,
   "id": "2a05ffe5-daaa-45db-9649-2bd521c6af1b",
   "metadata": {},
   "outputs": [],
   "source": [
    "bmw = cars ('bmw',2020,'germany')"
   ]
  },
  {
   "cell_type": "code",
   "execution_count": 17,
   "id": "fad1f893-7ab7-4ae6-a312-6976136107dd",
   "metadata": {},
   "outputs": [
    {
     "data": {
      "text/plain": [
       "'bmw'"
      ]
     },
     "execution_count": 17,
     "metadata": {},
     "output_type": "execute_result"
    }
   ],
   "source": [
    "bmw.brand"
   ]
  },
  {
   "cell_type": "code",
   "execution_count": 18,
   "id": "a47a9d8c-c0d4-46a6-b6e7-21d4ea5bb554",
   "metadata": {},
   "outputs": [
    {
     "data": {
      "text/plain": [
       "'germany'"
      ]
     },
     "execution_count": 18,
     "metadata": {},
     "output_type": "execute_result"
    }
   ],
   "source": [
    "bmw.country"
   ]
  },
  {
   "cell_type": "code",
   "execution_count": 19,
   "id": "0a7a3f2c-a54a-44a0-9e90-79745baf1b80",
   "metadata": {},
   "outputs": [
    {
     "name": "stdout",
     "output_type": "stream",
     "text": [
      "John(36)\n"
     ]
    }
   ],
   "source": [
    "class Person:\n",
    "  def __init__(self, name, age):\n",
    "    self.name = name\n",
    "    self.age = age\n",
    "\n",
    "  def __str__(self):\n",
    "    return f\"{self.name}({self.age})\"\n",
    "\n",
    "p1 = Person(\"John\", 36)\n",
    "\n",
    "print(p1)"
   ]
  },
  {
   "cell_type": "code",
   "execution_count": 20,
   "id": "5be6f701-f87e-415c-8706-ac0267cc9b12",
   "metadata": {},
   "outputs": [
    {
     "name": "stdout",
     "output_type": "stream",
     "text": [
      "<__main__.Person object at 0x000002230C359160>\n"
     ]
    }
   ],
   "source": [
    "class Person:\n",
    "  def __init__(self, name, age):\n",
    "    self.name = name\n",
    "    self.age = age\n",
    "\n",
    "p1 = Person(\"John\", 36)\n",
    "\n",
    "print(p1)"
   ]
  },
  {
   "cell_type": "code",
   "execution_count": 23,
   "id": "b9d1bb4d-9383-4ea0-b3c4-0bc452d8133c",
   "metadata": {},
   "outputs": [],
   "source": [
    "class cars:\n",
    "    def __init__(self,brand,year,country):\n",
    "        self.brand = brand\n",
    "        self.year = year\n",
    "        self.country = country\n",
    "    def __str__(self):\n",
    "        return f\"{self.brand}({self.year})_{self.country}\""
   ]
  },
  {
   "cell_type": "code",
   "execution_count": 24,
   "id": "5c8acfd8-3796-4974-917d-6dd39289e99e",
   "metadata": {},
   "outputs": [
    {
     "name": "stdout",
     "output_type": "stream",
     "text": [
      "bmw(2024)_Germany\n"
     ]
    }
   ],
   "source": [
    "BMW = cars('bmw',2024,'Germany')\n",
    "print(BMW)"
   ]
  },
  {
   "cell_type": "code",
   "execution_count": 25,
   "id": "c896288e-cd0d-40bc-82e4-a938c088b332",
   "metadata": {},
   "outputs": [
    {
     "name": "stdout",
     "output_type": "stream",
     "text": [
      "Hello my name is John\n"
     ]
    }
   ],
   "source": [
    "class Person:\n",
    "  def __init__(self, name, age):\n",
    "    self.name = name\n",
    "    self.age = age\n",
    "\n",
    "  def myfunc(self):\n",
    "    print(\"Hello my name is \" + self.name)\n",
    "\n",
    "p1 = Person(\"John\", 36)\n",
    "p1.myfunc()"
   ]
  },
  {
   "cell_type": "code",
   "execution_count": 1,
   "id": "455a42fa-cd8e-4935-8f9a-880f69244e8a",
   "metadata": {},
   "outputs": [],
   "source": [
    "class person:\n",
    "    def __init__(self,name,age):\n",
    "        self.name = name\n",
    "        self.age = age\n",
    "    def myfunct(self):\n",
    "        print('Hi my name is '+ self.name)\n",
    "        "
   ]
  },
  {
   "cell_type": "code",
   "execution_count": 2,
   "id": "899f5e19-44c4-4a33-8f31-629772c3c679",
   "metadata": {},
   "outputs": [
    {
     "name": "stdout",
     "output_type": "stream",
     "text": [
      "Hi my name is john\n"
     ]
    }
   ],
   "source": [
    "p1 = person('john', 35)\n",
    "p1.myfunct()"
   ]
  },
  {
   "cell_type": "code",
   "execution_count": 5,
   "id": "d9da38d8-318c-4b99-a350-fb907c589923",
   "metadata": {},
   "outputs": [
    {
     "name": "stdout",
     "output_type": "stream",
     "text": [
      "Hello my name is Johnn\n"
     ]
    }
   ],
   "source": [
    "class Person:\n",
    "  def __init__(mysillyobject, name, age):\n",
    "    mysillyobject.name = name\n",
    "    mysillyobject.age = age\n",
    "\n",
    "  def myfunc(mysillyobject):\n",
    "    print(\"Hello my name is \" + mysillyobject.name)\n",
    "\n",
    "p1 = Person(\"Johnn\", 36)\n",
    "p1.myfunc()"
   ]
  },
  {
   "cell_type": "code",
   "execution_count": 6,
   "id": "9541ad80-32a1-46c1-b3a6-7709504ae839",
   "metadata": {},
   "outputs": [
    {
     "data": {
      "text/plain": [
       "36"
      ]
     },
     "execution_count": 6,
     "metadata": {},
     "output_type": "execute_result"
    }
   ],
   "source": [
    "p1.age"
   ]
  },
  {
   "cell_type": "code",
   "execution_count": 7,
   "id": "b1931724-35ff-4809-8a02-af3792772ae3",
   "metadata": {},
   "outputs": [],
   "source": [
    "p1.name = 'ali'"
   ]
  },
  {
   "cell_type": "code",
   "execution_count": 8,
   "id": "86d72b00-6e2c-44ab-8c07-8d5328bd03b4",
   "metadata": {},
   "outputs": [
    {
     "name": "stdout",
     "output_type": "stream",
     "text": [
      "Hello my name is ali\n"
     ]
    }
   ],
   "source": [
    "p1.myfunc()"
   ]
  },
  {
   "cell_type": "code",
   "execution_count": 14,
   "id": "59ab38a1-631a-4573-bb82-9b647f5cc347",
   "metadata": {},
   "outputs": [],
   "source": [
    "class person: \n",
    "    def __init__(self,firstname,lastname):\n",
    "        self.firstname = firstname \n",
    "        self.lastname = lastname\n",
    "    def printname(self):\n",
    "        print(self.firstname,self.lastname)\n"
   ]
  },
  {
   "cell_type": "code",
   "execution_count": 15,
   "id": "55fc6f7e-c095-4e34-822a-f480f924b345",
   "metadata": {},
   "outputs": [
    {
     "name": "stdout",
     "output_type": "stream",
     "text": [
      "john doe\n"
     ]
    }
   ],
   "source": [
    "x = person('john','doe')\n",
    "x.printname()"
   ]
  },
  {
   "cell_type": "code",
   "execution_count": 16,
   "id": "0f2d3706-afcb-4f66-8c29-4e3c4a15d02e",
   "metadata": {},
   "outputs": [],
   "source": [
    "class Student(person):\n",
    "    pass"
   ]
  },
  {
   "cell_type": "code",
   "execution_count": 18,
   "id": "86d42eaa-ff99-4739-86cb-06800724d957",
   "metadata": {},
   "outputs": [
    {
     "name": "stdout",
     "output_type": "stream",
     "text": [
      "ali mokhtari\n"
     ]
    }
   ],
   "source": [
    "y = Student('ali','mokhtari')\n",
    "y.printname()"
   ]
  },
  {
   "cell_type": "code",
   "execution_count": 23,
   "id": "6476f848-9ac7-4f9b-829b-bfb5cbde486c",
   "metadata": {},
   "outputs": [],
   "source": [
    "class student(person):\n",
    "    def __init__(self,fname,lname):\n",
    "        self.fname = fname\n",
    "        self.lname = lname\n",
    "    def __str__(self):\n",
    "        return f\"{self.fname} {self.lname}\""
   ]
  },
  {
   "cell_type": "code",
   "execution_count": 24,
   "id": "efe66721-b78f-432c-9421-adfe40dc767e",
   "metadata": {},
   "outputs": [],
   "source": [
    "x=student('mm','mos')"
   ]
  },
  {
   "cell_type": "code",
   "execution_count": 26,
   "id": "f9ed5222-fe18-4d44-a687-808a8b6ca7f3",
   "metadata": {},
   "outputs": [
    {
     "name": "stdout",
     "output_type": "stream",
     "text": [
      "mm mos\n"
     ]
    }
   ],
   "source": [
    "print(x)"
   ]
  },
  {
   "cell_type": "code",
   "execution_count": 3,
   "id": "faf3e795-a104-4a9c-8bf1-8fabeee6c37a",
   "metadata": {},
   "outputs": [
    {
     "name": "stdout",
     "output_type": "stream",
     "text": [
      "ali mo\n"
     ]
    }
   ],
   "source": [
    "class person: \n",
    "    def __init__(self,fname,lname):\n",
    "        self.fname = fname\n",
    "        self.lname = lname\n",
    "    def printname(self):\n",
    "        print(self.fname,self.lname)\n",
    "p1 = person('ali','mo')\n",
    "p1.printname()"
   ]
  },
  {
   "cell_type": "code",
   "execution_count": 22,
   "id": "a1ab7b4a-2929-418d-9506-e7c285094bff",
   "metadata": {},
   "outputs": [],
   "source": [
    "class student(person):\n",
    "    def __init__(self,fname, lname):\n",
    "        super().__init__(fname,lname)\n",
    "        self.graduationyear = 2019\n",
    "    def __str__(self):\n",
    "        return f\"{self.fname}, {self.lname},  graduation year: {self.graduationyear}\""
   ]
  },
  {
   "cell_type": "code",
   "execution_count": 25,
   "id": "22674945-2783-4509-90cc-3b9f9b4452f8",
   "metadata": {},
   "outputs": [
    {
     "name": "stdout",
     "output_type": "stream",
     "text": [
      "mohammad, mo,  graduation year: 2019\n"
     ]
    }
   ],
   "source": [
    "a = student('mohammad','mo')\n",
    "print(a)"
   ]
  },
  {
   "cell_type": "code",
   "execution_count": 19,
   "id": "709fa0c7-7c12-4756-b16e-95b58c6ab076",
   "metadata": {},
   "outputs": [],
   "source": [
    "class student(person):\n",
    "    def __init__(self,fname, lname,year):\n",
    "        super().__init__(fname,lname)\n",
    "        self.graduationyear = year\n",
    "    def __str__(self):\n",
    "        return f\"{self.fname}, {self.lname},  graduation year: {self.graduationyear}\""
   ]
  },
  {
   "cell_type": "code",
   "execution_count": 20,
   "id": "b68f3656-be5c-47c2-a7b4-d1d59b867bd3",
   "metadata": {},
   "outputs": [],
   "source": [
    "a = student('mohammad','mo',2020)"
   ]
  },
  {
   "cell_type": "code",
   "execution_count": 21,
   "id": "0e3a1118-190f-4d96-856e-4dfcfffb8714",
   "metadata": {},
   "outputs": [
    {
     "name": "stdout",
     "output_type": "stream",
     "text": [
      "mohammad, mo,  graduation year: 2020\n"
     ]
    }
   ],
   "source": [
    "print(a)"
   ]
  },
  {
   "cell_type": "code",
   "execution_count": 39,
   "id": "4d8b8238-7c8c-4b62-b0e8-c8397490d54f",
   "metadata": {},
   "outputs": [],
   "source": [
    "class MyNumbers:\n",
    "  def __iter__(self):\n",
    "    self.a = 1\n",
    "    return self\n",
    "\n",
    "  def __next__(self):\n",
    "      x = self.a\n",
    "      self.a += 1 \n",
    "      return x "
   ]
  },
  {
   "cell_type": "code",
   "execution_count": 42,
   "id": "5696f2ee-5c6b-46ed-a7c6-0fc3e97dd4f4",
   "metadata": {},
   "outputs": [
    {
     "name": "stdout",
     "output_type": "stream",
     "text": [
      "1\n",
      "2\n",
      "3\n"
     ]
    }
   ],
   "source": [
    "myclass = MyNumbers()\n",
    "myiter = myclass.__iter__()  ## myiter = iter(myclass)\n",
    "\n",
    "print(next(myclass))\n",
    "print(next(myclass))\n",
    "print(next(myclass))"
   ]
  },
  {
   "cell_type": "code",
   "execution_count": 45,
   "id": "087cba3b-eaae-4b0c-bfe5-8c349277ae2d",
   "metadata": {},
   "outputs": [],
   "source": [
    "class MyNumbers: \n",
    "    def __iter__(self):\n",
    "        self.a = 2\n",
    "        return self\n",
    "    def __next__(self):\n",
    "        if self.a <= 25:\n",
    "            x = self.a\n",
    "            self.a += 2 \n",
    "            return x \n",
    "        else:\n",
    "            raise StopIteration"
   ]
  },
  {
   "cell_type": "code",
   "execution_count": 46,
   "id": "89da0c19-d8ed-4a4d-b560-2bacfe3f651c",
   "metadata": {},
   "outputs": [
    {
     "name": "stdout",
     "output_type": "stream",
     "text": [
      "2\n",
      "4\n",
      "6\n",
      "8\n",
      "10\n",
      "12\n",
      "14\n",
      "16\n",
      "18\n",
      "20\n",
      "22\n",
      "24\n"
     ]
    }
   ],
   "source": [
    "myclass = MyNumbers()\n",
    "myiter = myclass.__iter__()\n",
    "for x in myiter:\n",
    "    print(x)"
   ]
  },
  {
   "cell_type": "code",
   "execution_count": 47,
   "id": "96c1473d-06f5-41fe-93d3-10f9819931b8",
   "metadata": {},
   "outputs": [
    {
     "name": "stdout",
     "output_type": "stream",
     "text": [
      "3\n"
     ]
    }
   ],
   "source": [
    "thisdict = {\n",
    "  \"brand\": \"Ford\",\n",
    "  \"model\": \"Mustang\",\n",
    "  \"year\": 1964\n",
    "}\n",
    "\n",
    "print(len(thisdict))"
   ]
  },
  {
   "cell_type": "code",
   "execution_count": 48,
   "id": "901c8f8e-8dd0-4dda-95dc-27a02cd96158",
   "metadata": {},
   "outputs": [
    {
     "name": "stdout",
     "output_type": "stream",
     "text": [
      "Drive!\n",
      "Sail!\n",
      "Fly!\n"
     ]
    }
   ],
   "source": [
    "class Car:\n",
    "  def __init__(self, brand, model):\n",
    "    self.brand = brand\n",
    "    self.model = model\n",
    "\n",
    "  def move(self):\n",
    "    print(\"Drive!\")\n",
    "\n",
    "class Boat:\n",
    "  def __init__(self, brand, model):\n",
    "    self.brand = brand\n",
    "    self.model = model\n",
    "\n",
    "  def move(self):\n",
    "    print(\"Sail!\")\n",
    "\n",
    "class Plane:\n",
    "  def __init__(self, brand, model):\n",
    "    self.brand = brand\n",
    "    self.model = model\n",
    "\n",
    "  def move(self):\n",
    "    print(\"Fly!\")\n",
    "\n",
    "car1 = Car(\"Ford\", \"Mustang\")       #Create a Car object\n",
    "boat1 = Boat(\"Ibiza\", \"Touring 20\") #Create a Boat object\n",
    "plane1 = Plane(\"Boeing\", \"747\")     #Create a Plane object\n",
    "\n",
    "for x in (car1, boat1, plane1):\n",
    "  x.move()"
   ]
  },
  {
   "cell_type": "code",
   "execution_count": 49,
   "id": "0a129ac9-0631-442d-9b46-e4a9ccede684",
   "metadata": {},
   "outputs": [
    {
     "name": "stdout",
     "output_type": "stream",
     "text": [
      "Ford\n",
      "Mustang\n",
      "Move!\n",
      "Ibiza\n",
      "Touring 20\n",
      "Sail!\n",
      "Boeing\n",
      "747\n",
      "Fly!\n"
     ]
    }
   ],
   "source": [
    "class Vehicle:\n",
    "  def __init__(self, brand, model):\n",
    "    self.brand = brand\n",
    "    self.model = model\n",
    "\n",
    "  def move(self):\n",
    "    print(\"Move!\")\n",
    "\n",
    "class Car(Vehicle):\n",
    "  pass\n",
    "\n",
    "class Boat(Vehicle):\n",
    "  def move(self):\n",
    "    print(\"Sail!\")\n",
    "\n",
    "class Plane(Vehicle):\n",
    "  def move(self):\n",
    "    print(\"Fly!\")\n",
    "\n",
    "car1 = Car(\"Ford\", \"Mustang\")       #Create a Car object\n",
    "boat1 = Boat(\"Ibiza\", \"Touring 20\") #Create a Boat object\n",
    "plane1 = Plane(\"Boeing\", \"747\")     #Create a Plane object\n",
    "\n",
    "for x in (car1, boat1, plane1):\n",
    "  print(x.brand)\n",
    "  print(x.model)\n",
    "  x.move()"
   ]
  },
  {
   "cell_type": "code",
   "execution_count": 50,
   "id": "ff91f10a-dc91-494f-bbec-215692eb279f",
   "metadata": {},
   "outputs": [
    {
     "name": "stdout",
     "output_type": "stream",
     "text": [
      "200\n",
      "300\n"
     ]
    }
   ],
   "source": [
    "x = 300\n",
    "\n",
    "def myfunc():\n",
    "  x = 200\n",
    "  print(x)\n",
    "\n",
    "myfunc()\n",
    "\n",
    "print(x)"
   ]
  },
  {
   "cell_type": "code",
   "execution_count": 53,
   "id": "c28b4a93-f15b-4500-aeca-4ada5de62a0a",
   "metadata": {},
   "outputs": [],
   "source": [
    "def myfunc():\n",
    "  global x\n",
    "  x = 300\n",
    "\n",
    "myfunc()\n",
    "\n"
   ]
  },
  {
   "cell_type": "code",
   "execution_count": null,
   "id": "159e0024-b8c8-43fb-aee9-1d1d7272d3c0",
   "metadata": {},
   "outputs": [],
   "source": []
  }
 ],
 "metadata": {
  "kernelspec": {
   "display_name": "Python 3 (ipykernel)",
   "language": "python",
   "name": "python3"
  },
  "language_info": {
   "codemirror_mode": {
    "name": "ipython",
    "version": 3
   },
   "file_extension": ".py",
   "mimetype": "text/x-python",
   "name": "python",
   "nbconvert_exporter": "python",
   "pygments_lexer": "ipython3",
   "version": "3.13.1"
  }
 },
 "nbformat": 4,
 "nbformat_minor": 5
}
